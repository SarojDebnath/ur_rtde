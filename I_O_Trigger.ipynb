{
 "cells": [
  {
   "cell_type": "code",
   "execution_count": 3,
   "id": "a00667c1-9228-4325-8ac3-860842fc51ac",
   "metadata": {},
   "outputs": [
    {
     "name": "stdout",
     "output_type": "stream",
     "text": [
      "Starting Program\n",
      "0\n",
      "1\n",
      "2\n"
     ]
    }
   ],
   "source": [
    "import socket\n",
    "import time\n",
    "import numpy as np\n",
    "### Set up the connectivities\n",
    "\n",
    "HOST = \"194.94.86.99\" # The remote host\n",
    "PORT = 30002 # The same port as used by the server\n",
    "\n",
    "\n",
    "###VARIABLES IF REQUIRED\n",
    "\n",
    "print (\"Starting Program\")\n",
    "count = 0\n",
    "\n",
    "### RUN IT FOR ONE LOOP NOW, Later we can increase it \n",
    "\n",
    "while (count < 1):\n",
    "    \n",
    "    ###CONNECT 2ND CLIENT INTERFACE\n",
    "    \n",
    "    s = socket.socket(socket.AF_INET, socket.SOCK_STREAM)\n",
    "    s.connect((HOST, PORT))\n",
    "    time.sleep(0.5)\n",
    "    for i in range(3):\n",
    "        s.send ((\"set_digital_out(1,True)\" + \"\\n\").encode('utf-8'))\n",
    "        time.sleep(1)\n",
    "        s.send ((\"set_digital_out(1,False)\" + \"\\n\").encode('utf-8'))\n",
    "        time.sleep(1)\n",
    "        s.send((\"set_digital_out(2,True)\" + \"\\n\").encode('utf-8'))\n",
    "        time.sleep(1)\n",
    "        s.send((\"set_digital_out(2,False)\" + \"\\n\").encode('utf-8'))\n",
    "        time.sleep(1)\n",
    "        print(i)\n",
    "    count+=1\n",
    "s.close()"
   ]
  },
  {
   "cell_type": "markdown",
   "id": "93e70b8a-8033-45bc-852d-7310f37fc91a",
   "metadata": {},
   "source": [
    "### Control Tool digital Out"
   ]
  },
  {
   "cell_type": "code",
   "execution_count": 2,
   "id": "2f092672-bb5a-4957-8273-19b264f4d5de",
   "metadata": {},
   "outputs": [
    {
     "name": "stdout",
     "output_type": "stream",
     "text": [
      "0\n",
      "1\n",
      "2\n"
     ]
    }
   ],
   "source": [
    "count = 0\n",
    "\n",
    "### RUN IT FOR ONE LOOP NOW, Later we can increase it \n",
    "\n",
    "while (count < 1):\n",
    "    \n",
    "    ###CONNECT 2ND CLIENT INTERFACE\n",
    "    \n",
    "    s = socket.socket(socket.AF_INET, socket.SOCK_STREAM)\n",
    "    s.connect((HOST, PORT))\n",
    "    time.sleep(0.5)\n",
    "    for i in range(3):\n",
    "        s.send ((\"set_tool_digital_out(0,True)\" + \"\\n\").encode('utf-8'))\n",
    "        time.sleep(1)\n",
    "        s.send ((\"set_tool_digital_out(0,False)\" + \"\\n\").encode('utf-8'))\n",
    "        time.sleep(1)\n",
    "        s.send((\"set_tool_digital_out(1,True)\" + \"\\n\").encode('utf-8'))\n",
    "        time.sleep(1)\n",
    "        s.send((\"set_tool_digital_out(1,False)\" + \"\\n\").encode('utf-8'))\n",
    "        time.sleep(1)\n",
    "        print(i)\n",
    "    count+=1\n",
    "s.close()"
   ]
  },
  {
   "cell_type": "code",
   "execution_count": null,
   "id": "70bcdd15-152e-49fe-889d-34702c7fa711",
   "metadata": {},
   "outputs": [],
   "source": []
  }
 ],
 "metadata": {
  "kernelspec": {
   "display_name": "Python 3 (ipykernel)",
   "language": "python",
   "name": "python3"
  },
  "language_info": {
   "codemirror_mode": {
    "name": "ipython",
    "version": 3
   },
   "file_extension": ".py",
   "mimetype": "text/x-python",
   "name": "python",
   "nbconvert_exporter": "python",
   "pygments_lexer": "ipython3",
   "version": "3.9.13"
  }
 },
 "nbformat": 4,
 "nbformat_minor": 5
}
