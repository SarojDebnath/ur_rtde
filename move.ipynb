{
 "cells": [
  {
   "cell_type": "code",
   "execution_count": 3,
   "id": "6ac3bbfa-047b-4961-8e35-221997b9e51e",
   "metadata": {},
   "outputs": [
    {
     "name": "stdout",
     "output_type": "stream",
     "text": [
      "Starting Program\n",
      "Robot goes to the capturing position\n"
     ]
    }
   ],
   "source": [
    "import socket\n",
    "import time\n",
    "import numpy as np\n",
    "### Set up the connectivities\n",
    "HOST = \"194.94.86.99\" # The remote host\n",
    "PORT = 30002 # The same port as used by the server\n",
    "###VARIABLES IF REQUIRED\n",
    "print (\"Starting Program\")\n",
    "count = 0\n",
    "\n",
    "while (count < 1):\n",
    "    \n",
    "    ###CONNECT 2ND CLIENT INTERFACE\n",
    "    \n",
    "    s = socket.socket(socket.AF_INET, socket.SOCK_STREAM)\n",
    "    s.connect((HOST, PORT))\n",
    "    \n",
    "    ###MOVE TO CAPTURE POSITION\n",
    "    \n",
    "    print(\"Robot goes to the capturing position\")\n",
    "    s.send ((\"movej(p[-0.16782,-0.70146,0.38802,0.036,-3.154,-0.017], a=1.0, v=0.5)\" + \"\\n\").encode('utf-8'))\n",
    "    #time.sleep(3)\n",
    "\n",
    "    \n",
    "    count = count + 1\n",
    "s.close()"
   ]
  },
  {
   "cell_type": "markdown",
   "id": "1eb11746-75a1-4428-af38-be7f695bcb69",
   "metadata": {},
   "source": [
    "## Move the robot linearly"
   ]
  },
  {
   "cell_type": "code",
   "execution_count": 3,
   "id": "2b63e907-3f29-4949-9324-ef4bf880858d",
   "metadata": {},
   "outputs": [
    {
     "name": "stdout",
     "output_type": "stream",
     "text": [
      "Robot goes to the 2nd position\n"
     ]
    }
   ],
   "source": [
    "count=0\n",
    "while (count < 1):\n",
    "    \n",
    "    ###CONNECT 2ND CLIENT INTERFACE\n",
    "    \n",
    "    s = socket.socket(socket.AF_INET, socket.SOCK_STREAM)\n",
    "    s.connect((HOST, PORT))\n",
    "    \n",
    "    ###MOVE TO CAPTURE POSITION\n",
    "    \n",
    "    print(\"Robot goes to the 2nd position\")\n",
    "    s.send ((\"movel(p[-0.1215,-0.6237,0.27708,0.079,-3.120,0.041], a=1.0, v=0.5)\" + \"\\n\").encode('utf-8'))\n",
    "    #time.sleep(3)\n",
    "\n",
    "    \n",
    "    count = count + 1\n",
    "s.close()"
   ]
  },
  {
   "cell_type": "code",
   "execution_count": null,
   "id": "dcfbf5be-ba8d-4d59-a141-f78e6ea46011",
   "metadata": {},
   "outputs": [],
   "source": []
  }
 ],
 "metadata": {
  "kernelspec": {
   "display_name": "Python 3 (ipykernel)",
   "language": "python",
   "name": "python3"
  },
  "language_info": {
   "codemirror_mode": {
    "name": "ipython",
    "version": 3
   },
   "file_extension": ".py",
   "mimetype": "text/x-python",
   "name": "python",
   "nbconvert_exporter": "python",
   "pygments_lexer": "ipython3",
   "version": "3.9.13"
  }
 },
 "nbformat": 4,
 "nbformat_minor": 5
}
