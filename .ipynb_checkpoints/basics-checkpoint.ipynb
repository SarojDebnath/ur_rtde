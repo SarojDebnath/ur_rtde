{
 "cells": [
  {
   "cell_type": "code",
   "execution_count": 4,
   "id": "0904983a-4feb-4b40-9115-249bf1ed1e8f",
   "metadata": {},
   "outputs": [],
   "source": [
    "import rtde_control\n",
    "rtde_c = rtde_control.RTDEControlInterface(\"194.94.86.99\")\n",
    "rtde_c.moveL([-0.36778, -0.68962, 0.115, 2.232, 2.201, -0.005], 0.5, 0.3)\n",
    "rtde_c.moveL([-0.36778, -0.68962, 0.025, 2.232, 2.201, -0.005], 0.5, 0.3)\n",
    "rtde_c.disconnect()"
   ]
  },
  {
   "cell_type": "code",
   "execution_count": 4,
   "id": "2573a205-ae68-417e-a5c8-efe3db19fdbd",
   "metadata": {},
   "outputs": [],
   "source": [
    "import rtde_receive\n",
    "rtde_r = rtde_receive.RTDEReceiveInterface(\"169.254.240.99\")\n",
    "actual_q = rtde_r.getActualQ()\n",
    "rtde_c.disconnect()"
   ]
  },
  {
   "cell_type": "code",
   "execution_count": 5,
   "id": "31e1beb6-b07f-4885-b93c-272f17fe2df0",
   "metadata": {},
   "outputs": [
    {
     "name": "stdout",
     "output_type": "stream",
     "text": [
      "[-6.024037496388246e-06, -1.5707605642131348, -1.9073486328125e-06, -1.5708147488036097, 8.106231689453125e-06, -3.163014547169496e-06]\n"
     ]
    }
   ],
   "source": [
    "print(actual_q)"
   ]
  },
  {
   "cell_type": "code",
   "execution_count": 6,
   "id": "adfcebf0-709d-4916-ae9d-cc4c7b477ea1",
   "metadata": {},
   "outputs": [],
   "source": [
    "import math\n",
    "joints=[math.degrees(actual_q[0]),math.degrees(actual_q[1]),math.degrees(actual_q[2]),math.degrees(actual_q[3]),math.degrees(actual_q[4]),math.degrees(actual_q[5])]"
   ]
  },
  {
   "cell_type": "code",
   "execution_count": 7,
   "id": "a0b2712e-8a6b-4b9f-91d9-ba7076715242",
   "metadata": {},
   "outputs": [
    {
     "name": "stdout",
     "output_type": "stream",
     "text": [
      "[-0.00034515192417160136, -89.99795095500056, -0.00010928302672020402, -90.00105550334942, 0.0004644528635608671, -0.00018122738409129537]\n"
     ]
    }
   ],
   "source": [
    "print(joints)"
   ]
  },
  {
   "cell_type": "code",
   "execution_count": 9,
   "id": "e4cf36b9-c47d-4f9c-ad3b-3bf9990e0d8e",
   "metadata": {},
   "outputs": [
    {
     "data": {
      "text/plain": [
       "True"
      ]
     },
     "execution_count": 9,
     "metadata": {},
     "output_type": "execute_result"
    }
   ],
   "source": [
    "import rtde_io\n",
    "rtde_io = rtde_io.RTDEIOInterface(\"169.254.240.99\")\n",
    "rtde_io.setStandardDigitalOut(7, True)"
   ]
  },
  {
   "cell_type": "code",
   "execution_count": 10,
   "id": "92b529aa-0626-4d36-a468-6a154e50165b",
   "metadata": {},
   "outputs": [
    {
     "data": {
      "text/plain": [
       "True"
      ]
     },
     "execution_count": 10,
     "metadata": {},
     "output_type": "execute_result"
    }
   ],
   "source": [
    "rtde_io.setStandardDigitalOut(7, False)"
   ]
  },
  {
   "cell_type": "code",
   "execution_count": 11,
   "id": "16b3c179-bdb4-46b1-a0e8-1830ee987641",
   "metadata": {},
   "outputs": [
    {
     "ename": "AttributeError",
     "evalue": "'rtde_io.RTDEIOInterface' object has no attribute 'setStandardToolOut'",
     "output_type": "error",
     "traceback": [
      "\u001b[1;31m---------------------------------------------------------------------------\u001b[0m",
      "\u001b[1;31mAttributeError\u001b[0m                            Traceback (most recent call last)",
      "\u001b[1;32m~\\AppData\\Local\\Temp\\ipykernel_12616\\1762245065.py\u001b[0m in \u001b[0;36m<module>\u001b[1;34m\u001b[0m\n\u001b[1;32m----> 1\u001b[1;33m \u001b[0mrtde_io\u001b[0m\u001b[1;33m.\u001b[0m\u001b[0msetStandardToolOut\u001b[0m\u001b[1;33m(\u001b[0m\u001b[1;36m1\u001b[0m\u001b[1;33m,\u001b[0m \u001b[1;32mTrue\u001b[0m\u001b[1;33m)\u001b[0m\u001b[1;33m\u001b[0m\u001b[1;33m\u001b[0m\u001b[0m\n\u001b[0m",
      "\u001b[1;31mAttributeError\u001b[0m: 'rtde_io.RTDEIOInterface' object has no attribute 'setStandardToolOut'"
     ]
    }
   ],
   "source": [
    "rtde_io.setStandardToolOut(1, True)"
   ]
  },
  {
   "cell_type": "code",
   "execution_count": 6,
   "id": "aae302bf-567b-420d-97db-8411f0fd1417",
   "metadata": {},
   "outputs": [],
   "source": [
    "import rtde_control\n",
    "import rtde_receive\n",
    "import robotiq as grip\n",
    "import time\n",
    "count=0\n",
    "rtde_c = rtde_control.RTDEControlInterface(\"169.254.240.99\")\n",
    "rtde_r = rtde_receive.RTDEReceiveInterface(\"169.254.240.99\")\n",
    "while True:\n",
    "    rtde_c.moveL([0.00178,-0.57425,0.48688,0.079,-3.121,0.042], 0.5, 0.3)\n",
    "    time.sleep(1)\n",
    "    grip.move(0)\n",
    "    time.sleep(2)\n",
    "    pos=rtde_r.getActualTCPPose()\n",
    "    pos[0]+=0.1\n",
    "    rtde_c.moveL(pos, 0.5, 0.3)\n",
    "    time.sleep(1)\n",
    "    grip.move(33)\n",
    "    time.sleep(2)\n",
    "    pos1=rtde_r.getActualTCPPose()\n",
    "    pos1[0]-=0.05\n",
    "    pos1[2]-=0.1\n",
    "    rtde_c.moveL(pos1, 0.5, 0.3)\n",
    "    time.sleep(1)\n",
    "    grip.move(66)\n",
    "    time.sleep(2)\n",
    "    count+=1\n",
    "    if count==5:\n",
    "        break\n",
    "rtde_c.disconnect()\n",
    "rtde_r.disconnect()"
   ]
  },
  {
   "cell_type": "code",
   "execution_count": 3,
   "id": "7a0436ff-5fcd-4c26-8e7f-4ff43a69ae69",
   "metadata": {},
   "outputs": [
    {
     "name": "stdout",
     "output_type": "stream",
     "text": [
      "2\n"
     ]
    }
   ],
   "source": [
    "print (2%3)"
   ]
  },
  {
   "cell_type": "code",
   "execution_count": 1,
   "id": "3b61103f-6ce6-4a94-97f1-2fbf64607b8b",
   "metadata": {},
   "outputs": [],
   "source": [
    "import robotiq as grip\n",
    "grip.move(50)"
   ]
  },
  {
   "cell_type": "code",
   "execution_count": 4,
   "id": "5c8472cb-156c-42ee-b288-b695bb7e5b66",
   "metadata": {},
   "outputs": [
    {
     "ename": "ModuleNotFoundError",
     "evalue": "No module named 'RobotiqGripper'",
     "output_type": "error",
     "traceback": [
      "\u001b[1;31m---------------------------------------------------------------------------\u001b[0m",
      "\u001b[1;31mModuleNotFoundError\u001b[0m                       Traceback (most recent call last)",
      "\u001b[1;32m~\\AppData\\Local\\Temp\\ipykernel_8444\\1772295699.py\u001b[0m in \u001b[0;36m<module>\u001b[1;34m\u001b[0m\n\u001b[1;32m----> 1\u001b[1;33m \u001b[1;32mimport\u001b[0m \u001b[0mRobotiqGripper\u001b[0m\u001b[1;33m\u001b[0m\u001b[1;33m\u001b[0m\u001b[0m\n\u001b[0m",
      "\u001b[1;31mModuleNotFoundError\u001b[0m: No module named 'RobotiqGripper'"
     ]
    }
   ],
   "source": [
    "import RobotiqGripper"
   ]
  },
  {
   "cell_type": "code",
   "execution_count": null,
   "id": "8f78a685-399b-4a2e-b146-94d18ea4ed2e",
   "metadata": {},
   "outputs": [],
   "source": []
  }
 ],
 "metadata": {
  "kernelspec": {
   "display_name": "Python 3 (ipykernel)",
   "language": "python",
   "name": "python3"
  },
  "language_info": {
   "codemirror_mode": {
    "name": "ipython",
    "version": 3
   },
   "file_extension": ".py",
   "mimetype": "text/x-python",
   "name": "python",
   "nbconvert_exporter": "python",
   "pygments_lexer": "ipython3",
   "version": "3.11.4"
  }
 },
 "nbformat": 4,
 "nbformat_minor": 5
}
