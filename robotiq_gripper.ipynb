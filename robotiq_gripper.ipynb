{
 "cells": [
  {
   "cell_type": "code",
   "execution_count": 1,
   "id": "1e64f37e-9b00-41a5-bdba-e0ba31239c3f",
   "metadata": {},
   "outputs": [],
   "source": [
    "import robotiq as grip\n",
    "import time"
   ]
  },
  {
   "cell_type": "code",
   "execution_count": 2,
   "id": "7fe965da-7f91-4097-b063-5d6fccccc3db",
   "metadata": {},
   "outputs": [],
   "source": [
    "grip.Activate()"
   ]
  },
  {
   "cell_type": "code",
   "execution_count": 3,
   "id": "98f19b05-243a-4ff6-8138-c9180ab46789",
   "metadata": {},
   "outputs": [],
   "source": [
    "grip.Close()"
   ]
  },
  {
   "cell_type": "code",
   "execution_count": 4,
   "id": "227c7997-d7db-464e-bcc5-7a3f53946d59",
   "metadata": {},
   "outputs": [],
   "source": [
    "grip.Open()"
   ]
  },
  {
   "cell_type": "code",
   "execution_count": 5,
   "id": "f21e06d4-32e1-4d64-8175-c602fcf5f804",
   "metadata": {},
   "outputs": [],
   "source": [
    "grip.move(50) ## Close to 50%"
   ]
  },
  {
   "cell_type": "code",
   "execution_count": 8,
   "id": "3f25a17c-bf83-43ce-aa84-24602de28fdc",
   "metadata": {},
   "outputs": [
    {
     "name": "stdout",
     "output_type": "stream",
     "text": [
      "0\n",
      "1\n",
      "2\n",
      "3\n",
      "4\n"
     ]
    }
   ],
   "source": [
    "for i in range(5):\n",
    "    grip.Close()\n",
    "    time.sleep(2)\n",
    "    grip.Open()\n",
    "    time.sleep(2)\n",
    "    print(i)"
   ]
  },
  {
   "cell_type": "code",
   "execution_count": 69,
   "id": "61ffaffd-18be-41c7-9d6b-76d86d227ba0",
   "metadata": {},
   "outputs": [],
   "source": [
    "grip.cw()"
   ]
  },
  {
   "cell_type": "code",
   "execution_count": 33,
   "id": "5832d326-1837-41c3-9809-bb153d9e78b1",
   "metadata": {},
   "outputs": [
    {
     "ename": "NameError",
     "evalue": "name 'socket' is not defined",
     "output_type": "error",
     "traceback": [
      "\u001b[1;31m---------------------------------------------------------------------------\u001b[0m",
      "\u001b[1;31mNameError\u001b[0m                                 Traceback (most recent call last)",
      "\u001b[1;32m~\\AppData\\Local\\Temp\\ipykernel_22856\\373165058.py\u001b[0m in \u001b[0;36m<module>\u001b[1;34m\u001b[0m\n\u001b[0;32m      1\u001b[0m \u001b[0mHOST\u001b[0m \u001b[1;33m=\u001b[0m \u001b[1;34m\"169.254.37.182\"\u001b[0m \u001b[1;31m# The UR IP address\u001b[0m\u001b[1;33m\u001b[0m\u001b[1;33m\u001b[0m\u001b[0m\n\u001b[0;32m      2\u001b[0m \u001b[0mPORT\u001b[0m \u001b[1;33m=\u001b[0m \u001b[1;36m30002\u001b[0m \u001b[1;31m# UR secondary client\u001b[0m\u001b[1;33m\u001b[0m\u001b[1;33m\u001b[0m\u001b[0m\n\u001b[1;32m----> 3\u001b[1;33m \u001b[0ms\u001b[0m \u001b[1;33m=\u001b[0m \u001b[0msocket\u001b[0m\u001b[1;33m.\u001b[0m\u001b[0msocket\u001b[0m\u001b[1;33m(\u001b[0m\u001b[0msocket\u001b[0m\u001b[1;33m.\u001b[0m\u001b[0mAF_INET\u001b[0m\u001b[1;33m,\u001b[0m \u001b[0msocket\u001b[0m\u001b[1;33m.\u001b[0m\u001b[0mSOCK_STREAM\u001b[0m\u001b[1;33m)\u001b[0m\u001b[1;33m\u001b[0m\u001b[1;33m\u001b[0m\u001b[0m\n\u001b[0m\u001b[0;32m      4\u001b[0m \u001b[0ms\u001b[0m\u001b[1;33m.\u001b[0m\u001b[0mconnect\u001b[0m\u001b[1;33m(\u001b[0m\u001b[1;33m(\u001b[0m\u001b[0mHOST\u001b[0m\u001b[1;33m,\u001b[0m \u001b[0mPORT\u001b[0m\u001b[1;33m)\u001b[0m\u001b[1;33m)\u001b[0m\u001b[1;33m\u001b[0m\u001b[1;33m\u001b[0m\u001b[0m\n\u001b[0;32m      5\u001b[0m \u001b[0mf_cw\u001b[0m \u001b[1;33m=\u001b[0m \u001b[0mopen\u001b[0m \u001b[1;33m(\u001b[0m\u001b[1;34m\"C:/Users/Prajwal/Python Projects/ADVA LED/UR5 RTDE/ur_rtde/Gripper.script\"\u001b[0m\u001b[1;33m,\u001b[0m \u001b[1;34m\"rb\"\u001b[0m\u001b[1;33m)\u001b[0m\u001b[1;33m\u001b[0m\u001b[1;33m\u001b[0m\u001b[0m\n",
      "\u001b[1;31mNameError\u001b[0m: name 'socket' is not defined"
     ]
    }
   ],
   "source": [
    "def replace_line(file_name, line_num, text):\n",
    "    lines = open(file_name, 'r').readlines()\n",
    "    lines[line_num] = text\n",
    "    out = open(file_name, 'w')\n",
    "    out.writelines(lines)\n",
    "    out.close()"
   ]
  },
  {
   "cell_type": "code",
   "execution_count": null,
   "id": "3fd1760d-052a-479c-ae60-d2640471f7d6",
   "metadata": {},
   "outputs": [],
   "source": []
  }
 ],
 "metadata": {
  "kernelspec": {
   "display_name": "Python 3 (ipykernel)",
   "language": "python",
   "name": "python3"
  },
  "language_info": {
   "codemirror_mode": {
    "name": "ipython",
    "version": 3
   },
   "file_extension": ".py",
   "mimetype": "text/x-python",
   "name": "python",
   "nbconvert_exporter": "python",
   "pygments_lexer": "ipython3",
   "version": "3.9.13"
  }
 },
 "nbformat": 4,
 "nbformat_minor": 5
}
